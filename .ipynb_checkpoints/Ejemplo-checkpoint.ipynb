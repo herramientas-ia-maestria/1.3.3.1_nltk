{
 "cells": [
  {
   "cell_type": "code",
   "execution_count": 1,
   "id": "f16d4693-e0f0-4acd-a579-6968c19a489e",
   "metadata": {},
   "outputs": [
    {
     "name": "stdout",
     "output_type": "stream",
     "text": [
      "Collecting nltk\n",
      "  Downloading nltk-3.8.1-py3-none-any.whl (1.5 MB)\n",
      "\u001b[2K     \u001b[38;2;114;156;31m━━━━━━━━━━━━━━━━━━━━━━━━━━━━━━━━━━━━━━━━\u001b[0m \u001b[32m1.5/1.5 MB\u001b[0m \u001b[31m3.0 MB/s\u001b[0m eta \u001b[36m0:00:00\u001b[0m[31m2.6 MB/s\u001b[0m eta \u001b[36m0:00:01\u001b[0m0m\n",
      "\u001b[?25hCollecting click (from nltk)\n",
      "  Using cached click-8.1.7-py3-none-any.whl.metadata (3.0 kB)\n",
      "Requirement already satisfied: joblib in /home/reroes/entornos/envpy310-ia-maestria/lib/python3.10/site-packages (from nltk) (1.3.2)\n",
      "Collecting regex>=2021.8.3 (from nltk)\n",
      "  Downloading regex-2023.12.25-cp310-cp310-manylinux_2_17_x86_64.manylinux2014_x86_64.whl.metadata (40 kB)\n",
      "\u001b[2K     \u001b[38;2;114;156;31m━━━━━━━━━━━━━━━━━━━━━━━━━━━━━━━━━━━━━━━━\u001b[0m \u001b[32m40.9/40.9 kB\u001b[0m \u001b[31m1.4 MB/s\u001b[0m eta \u001b[36m0:00:00\u001b[0m\n",
      "\u001b[?25hCollecting tqdm (from nltk)\n",
      "  Downloading tqdm-4.66.1-py3-none-any.whl.metadata (57 kB)\n",
      "\u001b[2K     \u001b[38;2;114;156;31m━━━━━━━━━━━━━━━━━━━━━━━━━━━━━━━━━━━━━━━━\u001b[0m \u001b[32m57.6/57.6 kB\u001b[0m \u001b[31m3.1 MB/s\u001b[0m eta \u001b[36m0:00:00\u001b[0m\n",
      "\u001b[?25hDownloading regex-2023.12.25-cp310-cp310-manylinux_2_17_x86_64.manylinux2014_x86_64.whl (773 kB)\n",
      "\u001b[2K   \u001b[38;2;114;156;31m━━━━━━━━━━━━━━━━━━━━━━━━━━━━━━━━━━━━━━━━\u001b[0m \u001b[32m774.0/774.0 kB\u001b[0m \u001b[31m9.4 MB/s\u001b[0m eta \u001b[36m0:00:00\u001b[0m0m eta \u001b[36m0:00:01\u001b[0m[36m0:00:01\u001b[0m\n",
      "\u001b[?25hUsing cached click-8.1.7-py3-none-any.whl (97 kB)\n",
      "Downloading tqdm-4.66.1-py3-none-any.whl (78 kB)\n",
      "\u001b[2K   \u001b[38;2;114;156;31m━━━━━━━━━━━━━━━━━━━━━━━━━━━━━━━━━━━━━━━━\u001b[0m \u001b[32m78.3/78.3 kB\u001b[0m \u001b[31m4.1 MB/s\u001b[0m eta \u001b[36m0:00:00\u001b[0m\n",
      "\u001b[?25hInstalling collected packages: tqdm, regex, click, nltk\n",
      "Successfully installed click-8.1.7 nltk-3.8.1 regex-2023.12.25 tqdm-4.66.1\n"
     ]
    }
   ],
   "source": [
    "!pip install nltk"
   ]
  },
  {
   "cell_type": "code",
   "execution_count": null,
   "id": "d911d5ba-fad6-4dc4-929b-5c4c5e72cf22",
   "metadata": {},
   "outputs": [],
   "source": [
    "import nltk\n",
    "nltk.download('punkt')\n",
    "nltk.download('cess_esp')  # Para etiquetado POS en español"
   ]
  },
  {
   "cell_type": "code",
   "execution_count": 6,
   "id": "a236bd5b-0eb8-45cc-bea7-9da0bebb4785",
   "metadata": {},
   "outputs": [],
   "source": [
    "texto = \"Mi maestría la estudio en la Universidad Técnica Particular de Loja. Loja es una provincia del Ecuador.\"\n"
   ]
  },
  {
   "cell_type": "code",
   "execution_count": 7,
   "id": "3838f978-887c-47dc-985c-15ae1bb51749",
   "metadata": {},
   "outputs": [
    {
     "name": "stdout",
     "output_type": "stream",
     "text": [
      "['Mi', 'maestría', 'la', 'estudio', 'en', 'la', 'Universidad', 'Técnica', 'Particular', 'de', 'Loja', '.', 'Loja', 'es', 'una', 'provincia', 'del', 'Ecuador']\n"
     ]
    }
   ],
   "source": [
    "from nltk.tokenize import word_tokenize\n",
    "\n",
    "palabras = word_tokenize(texto, language='spanish')\n",
    "print(palabras)"
   ]
  },
  {
   "cell_type": "code",
   "execution_count": 8,
   "id": "0ad6a4a5-d40b-4c94-8342-407a3931de49",
   "metadata": {},
   "outputs": [
    {
     "name": "stdout",
     "output_type": "stream",
     "text": [
      "['Mi maestría la estudio en la Universidad Técnica Particular de Loja.', 'Loja es una provincia del Ecuador']\n"
     ]
    }
   ],
   "source": [
    "from nltk.tokenize import sent_tokenize\n",
    "\n",
    "oraciones = sent_tokenize(texto, language='spanish')\n",
    "print(oraciones)"
   ]
  },
  {
   "cell_type": "code",
   "execution_count": 16,
   "id": "0d3844c3-7c75-481e-9ada-0a3d8beee6e2",
   "metadata": {},
   "outputs": [],
   "source": [
    "from nltk.corpus import cess_esp\n",
    "from nltk import pos_tag\n",
    "from nltk.tokenize import word_tokenize\n",
    "\n",
    "# Se carga el conjunto de entrenamiento de cess_esp\n",
    "cess_esp.ensure_loaded()\n",
    "sents = cess_esp.tagged_sents()\n",
    "\n",
    "# Se entrena un etiquetador TnT con base al corpus cess_esp\n",
    "from nltk.tag import tnt\n",
    "tnt_pos_tagger = tnt.TnT()\n",
    "tnt_pos_tagger.train(sents)\n",
    "\n",
    "palabras = word_tokenize(texto, language='spanish')\n",
    "\n",
    "# Se etiqueta las palabras tokenizadas\n",
    "etiquetado = tnt_pos_tagger.tag(palabras)\n"
   ]
  },
  {
   "cell_type": "code",
   "execution_count": 17,
   "id": "3bfef765-7d1e-4414-a3fb-5394fc4c85c1",
   "metadata": {},
   "outputs": [
    {
     "name": "stdout",
     "output_type": "stream",
     "text": [
      "('Mi', 'dp1css')\n",
      "('maestría', 'ncfs000')\n",
      "('la', 'da0fs0')\n",
      "('estudio', 'ncms000')\n",
      "('en', 'sps00')\n",
      "('la', 'da0fs0')\n",
      "('Universidad', 'np0000o')\n",
      "('Técnica', 'Unk')\n",
      "('Particular', 'Unk')\n",
      "('de', 'sps00')\n",
      "('Loja', 'Unk')\n",
      "('.', 'Fp')\n",
      "('Loja', 'Unk')\n",
      "('es', 'vsip3s0')\n",
      "('una', 'di0fs0')\n",
      "('provincia', 'ncfs000')\n",
      "('del', 'spcms')\n",
      "('Ecuador', 'np0000o')\n"
     ]
    }
   ],
   "source": [
    "for t in etiquetado:\n",
    "    print(t)"
   ]
  }
 ],
 "metadata": {
  "kernelspec": {
   "display_name": "Python 3 (ipykernel)",
   "language": "python",
   "name": "python3"
  },
  "language_info": {
   "codemirror_mode": {
    "name": "ipython",
    "version": 3
   },
   "file_extension": ".py",
   "mimetype": "text/x-python",
   "name": "python",
   "nbconvert_exporter": "python",
   "pygments_lexer": "ipython3",
   "version": "3.10.12"
  }
 },
 "nbformat": 4,
 "nbformat_minor": 5
}
