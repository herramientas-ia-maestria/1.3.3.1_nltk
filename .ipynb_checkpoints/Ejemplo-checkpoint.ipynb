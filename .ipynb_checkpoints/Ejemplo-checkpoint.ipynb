{
 "cells": [
  {
   "cell_type": "code",
   "execution_count": 1,
   "id": "f16d4693-e0f0-4acd-a579-6968c19a489e",
   "metadata": {},
   "outputs": [
    {
     "name": "stdout",
     "output_type": "stream",
     "text": [
      "Collecting nltk\n",
      "  Using cached nltk-3.9.1-py3-none-any.whl.metadata (2.9 kB)\n",
      "Collecting click (from nltk)\n",
      "  Using cached click-8.1.8-py3-none-any.whl.metadata (2.3 kB)\n",
      "Requirement already satisfied: joblib in /home/reroes/entornos/envpy310-ia-aa2025/lib/python3.10/site-packages (from nltk) (1.4.2)\n",
      "Collecting regex>=2021.8.3 (from nltk)\n",
      "  Using cached regex-2024.11.6-cp310-cp310-manylinux_2_17_x86_64.manylinux2014_x86_64.whl.metadata (40 kB)\n",
      "Collecting tqdm (from nltk)\n",
      "  Using cached tqdm-4.67.1-py3-none-any.whl.metadata (57 kB)\n",
      "Using cached nltk-3.9.1-py3-none-any.whl (1.5 MB)\n",
      "Using cached regex-2024.11.6-cp310-cp310-manylinux_2_17_x86_64.manylinux2014_x86_64.whl (781 kB)\n",
      "Using cached click-8.1.8-py3-none-any.whl (98 kB)\n",
      "Using cached tqdm-4.67.1-py3-none-any.whl (78 kB)\n",
      "Installing collected packages: tqdm, regex, click, nltk\n",
      "Successfully installed click-8.1.8 nltk-3.9.1 regex-2024.11.6 tqdm-4.67.1\n"
     ]
    }
   ],
   "source": [
    "!pip install nltk"
   ]
  },
  {
   "cell_type": "code",
   "execution_count": null,
   "id": "d911d5ba-fad6-4dc4-929b-5c4c5e72cf22",
   "metadata": {},
   "outputs": [],
   "source": [
    "import nltk\n",
    "nltk.download('punkt')\n",
    "nltk.download('punkt_tab') # usado para evitar vulnerabilidades\n",
    "# Para ejemplificar el etiquetado POS en español\n",
    "nltk.download('cess_esp')  "
   ]
  },
  {
   "cell_type": "code",
   "execution_count": 6,
   "id": "a236bd5b-0eb8-45cc-bea7-9da0bebb4785",
   "metadata": {},
   "outputs": [],
   "source": [
    "texto = \"Mi maestría la estudio en la Universidad Técnica Particular de Loja. Loja es una provincia del Ecuador.\"\n"
   ]
  },
  {
   "cell_type": "code",
   "execution_count": 7,
   "id": "3838f978-887c-47dc-985c-15ae1bb51749",
   "metadata": {},
   "outputs": [
    {
     "name": "stdout",
     "output_type": "stream",
     "text": [
      "Mi\n",
      "maestría\n",
      "la\n",
      "estudio\n",
      "en\n",
      "la\n",
      "Universidad\n",
      "Técnica\n",
      "Particular\n",
      "de\n",
      "Loja\n",
      ".\n",
      "Loja\n",
      "es\n",
      "una\n",
      "provincia\n",
      "del\n",
      "Ecuador\n",
      ".\n"
     ]
    }
   ],
   "source": [
    "from nltk.tokenize import word_tokenize\n",
    "\n",
    "palabras = word_tokenize(texto, language='spanish')\n",
    "for l in palabras:\n",
    "    print(l)"
   ]
  },
  {
   "cell_type": "code",
   "execution_count": 8,
   "id": "0ad6a4a5-d40b-4c94-8342-407a3931de49",
   "metadata": {},
   "outputs": [
    {
     "name": "stdout",
     "output_type": "stream",
     "text": [
      "['Mi maestría la estudio en la Universidad Técnica Particular de Loja.', 'Loja es una provincia del Ecuador']\n"
     ]
    }
   ],
   "source": [
    "from nltk.tokenize import sent_tokenize\n",
    "\n",
    "oraciones = sent_tokenize(texto, language='spanish')\n",
    "print(oraciones)"
   ]
  },
  {
   "cell_type": "code",
   "execution_count": 23,
   "id": "0d3844c3-7c75-481e-9ada-0a3d8beee6e2",
   "metadata": {},
   "outputs": [],
   "source": [
    "from nltk.corpus import cess_esp\n",
    "from nltk import pos_tag\n",
    "from nltk.tokenize import word_tokenize\n",
    "\n",
    "# Se carga el conjunto de entrenamiento de cess_esp\n",
    "cess_esp.ensure_loaded()\n",
    "sents = cess_esp.tagged_sents()\n",
    "\n",
    "# Se entrena un etiquetador TnT con base al corpus cess_esp\n",
    "from nltk.tag import tnt\n",
    "tnt_pos_tagger = tnt.TnT()\n",
    "tnt_pos_tagger.train(sents)\n",
    "\n",
    "palabras = word_tokenize(texto, language='spanish')\n",
    "\n",
    "# Se etiqueta las palabras tokenizadas\n",
    "etiquetado = tnt_pos_tagger.tag(palabras)\n"
   ]
  },
  {
   "cell_type": "code",
   "execution_count": 24,
   "id": "3bfef765-7d1e-4414-a3fb-5394fc4c85c1",
   "metadata": {},
   "outputs": [
    {
     "name": "stdout",
     "output_type": "stream",
     "text": [
      "('Mi', 'dp1css')\n",
      "('maestría', 'ncfs000')\n",
      "('la', 'da0fs0')\n",
      "('estudio', 'ncms000')\n",
      "('en', 'sps00')\n",
      "('la', 'da0fs0')\n",
      "('Universidad', 'np0000o')\n",
      "('Técnica', 'Unk')\n",
      "('Particular', 'Unk')\n",
      "('de', 'sps00')\n",
      "('Loja', 'Unk')\n",
      "('.', 'Fp')\n",
      "('Loja', 'Unk')\n",
      "('es', 'vsip3s0')\n",
      "('una', 'di0fs0')\n",
      "('provincia', 'ncfs000')\n",
      "('del', 'spcms')\n",
      "('Ecuador', 'np0000o')\n",
      "('.', 'Fp')\n"
     ]
    }
   ],
   "source": [
    "for t in etiquetado:\n",
    "    print(t)"
   ]
  }
 ],
 "metadata": {
  "kernelspec": {
   "display_name": "Python 3 (ipykernel)",
   "language": "python",
   "name": "python3"
  },
  "language_info": {
   "codemirror_mode": {
    "name": "ipython",
    "version": 3
   },
   "file_extension": ".py",
   "mimetype": "text/x-python",
   "name": "python",
   "nbconvert_exporter": "python",
   "pygments_lexer": "ipython3",
   "version": "3.10.12"
  }
 },
 "nbformat": 4,
 "nbformat_minor": 5
}
